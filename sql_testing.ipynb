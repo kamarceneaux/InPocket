{
 "cells": [
  {
   "cell_type": "code",
   "execution_count": 1,
   "source": [
    "import sqlite3\r\n",
    "import pandas as pd"
   ],
   "outputs": [],
   "metadata": {}
  },
  {
   "cell_type": "code",
   "execution_count": 2,
   "source": [
    "con = sqlite3.connect(\"InPocket-Database.db\")\r\n",
    "cur = con.cursor()\r\n"
   ],
   "outputs": [],
   "metadata": {}
  },
  {
   "cell_type": "code",
   "execution_count": 3,
   "source": [
    "query = f\"SELECT * FROM transactions\"\r\n",
    "df = pd.read_sql_query(query, con)"
   ],
   "outputs": [],
   "metadata": {}
  },
  {
   "cell_type": "code",
   "execution_count": 4,
   "source": [
    "df.head()"
   ],
   "outputs": [
    {
     "output_type": "execute_result",
     "data": {
      "text/html": [
       "<div>\n",
       "<style scoped>\n",
       "    .dataframe tbody tr th:only-of-type {\n",
       "        vertical-align: middle;\n",
       "    }\n",
       "\n",
       "    .dataframe tbody tr th {\n",
       "        vertical-align: top;\n",
       "    }\n",
       "\n",
       "    .dataframe thead th {\n",
       "        text-align: right;\n",
       "    }\n",
       "</style>\n",
       "<table border=\"1\" class=\"dataframe\">\n",
       "  <thead>\n",
       "    <tr style=\"text-align: right;\">\n",
       "      <th></th>\n",
       "      <th>transaction_id</th>\n",
       "      <th>username</th>\n",
       "      <th>statement</th>\n",
       "      <th>transaction_type</th>\n",
       "      <th>description</th>\n",
       "      <th>amount</th>\n",
       "      <th>month</th>\n",
       "      <th>day</th>\n",
       "      <th>year</th>\n",
       "    </tr>\n",
       "  </thead>\n",
       "  <tbody>\n",
       "    <tr>\n",
       "      <th>0</th>\n",
       "      <td>7</td>\n",
       "      <td>sauceboy</td>\n",
       "      <td>Income</td>\n",
       "      <td>Gift</td>\n",
       "      <td>Cashapped from Friend</td>\n",
       "      <td>15.00</td>\n",
       "      <td>9</td>\n",
       "      <td>9</td>\n",
       "      <td>2021</td>\n",
       "    </tr>\n",
       "    <tr>\n",
       "      <th>1</th>\n",
       "      <td>8</td>\n",
       "      <td>joe</td>\n",
       "      <td>Expense</td>\n",
       "      <td>Retail</td>\n",
       "      <td>Bought Apple Watch Cover</td>\n",
       "      <td>-19.95</td>\n",
       "      <td>9</td>\n",
       "      <td>11</td>\n",
       "      <td>2021</td>\n",
       "    </tr>\n",
       "    <tr>\n",
       "      <th>2</th>\n",
       "      <td>9</td>\n",
       "      <td>joe</td>\n",
       "      <td>Expense</td>\n",
       "      <td>School</td>\n",
       "      <td>App</td>\n",
       "      <td>-1.99</td>\n",
       "      <td>9</td>\n",
       "      <td>11</td>\n",
       "      <td>2021</td>\n",
       "    </tr>\n",
       "    <tr>\n",
       "      <th>3</th>\n",
       "      <td>10</td>\n",
       "      <td>joe</td>\n",
       "      <td>Income</td>\n",
       "      <td>Work</td>\n",
       "      <td>Got Paid</td>\n",
       "      <td>231.23</td>\n",
       "      <td>9</td>\n",
       "      <td>11</td>\n",
       "      <td>2021</td>\n",
       "    </tr>\n",
       "    <tr>\n",
       "      <th>4</th>\n",
       "      <td>11</td>\n",
       "      <td>joe</td>\n",
       "      <td>Expense</td>\n",
       "      <td>Gift</td>\n",
       "      <td>BROKE</td>\n",
       "      <td>-100.00</td>\n",
       "      <td>9</td>\n",
       "      <td>11</td>\n",
       "      <td>2021</td>\n",
       "    </tr>\n",
       "  </tbody>\n",
       "</table>\n",
       "</div>"
      ],
      "text/plain": [
       "   transaction_id  username statement transaction_type  \\\n",
       "0               7  sauceboy    Income             Gift   \n",
       "1               8       joe   Expense           Retail   \n",
       "2               9       joe   Expense           School   \n",
       "3              10       joe    Income             Work   \n",
       "4              11       joe   Expense             Gift   \n",
       "\n",
       "                description  amount month day  year  \n",
       "0     Cashapped from Friend   15.00     9   9  2021  \n",
       "1  Bought Apple Watch Cover  -19.95     9  11  2021  \n",
       "2                       App   -1.99     9  11  2021  \n",
       "3                  Got Paid  231.23     9  11  2021  \n",
       "4                     BROKE -100.00     9  11  2021  "
      ]
     },
     "metadata": {},
     "execution_count": 4
    }
   ],
   "metadata": {}
  },
  {
   "cell_type": "code",
   "execution_count": null,
   "source": [
    "df['amount'].max()"
   ],
   "outputs": [],
   "metadata": {}
  }
 ],
 "metadata": {
  "orig_nbformat": 4,
  "language_info": {
   "name": "python",
   "version": "3.8.12",
   "mimetype": "text/x-python",
   "codemirror_mode": {
    "name": "ipython",
    "version": 3
   },
   "pygments_lexer": "ipython3",
   "nbconvert_exporter": "python",
   "file_extension": ".py"
  },
  "kernelspec": {
   "name": "python3",
   "display_name": "Python 3.8.10 64-bit ('InPocket': conda)"
  },
  "interpreter": {
   "hash": "6115aa599e40468a8a9c9389a518f3580088279c7938fe4f77e8df1312e4a862"
  }
 },
 "nbformat": 4,
 "nbformat_minor": 2
}